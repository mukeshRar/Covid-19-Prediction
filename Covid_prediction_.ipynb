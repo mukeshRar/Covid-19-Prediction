{
 "cells": [
  {
   "cell_type": "markdown",
   "metadata": {},
   "source": [
    "# Introduction:\n",
    "\n",
    "### The COVID-19 pandemic, caused by the novel coronavirus SARS-CoV-2, has reshaped our world in unprecedented ways. Early detection of COVID-19 cases is paramount for several reasons. First and foremost, it allows for timely isolation and treatment of infected individuals, reducing the risk of further transmission. Early intervention can also help prevent overwhelming the healthcare system, ensuring that those in need of medical care receive prompt attention. Moreover, the ability to identify and trace cases early is essential for contact tracing and the implementation of public health measures to curtail the spread of the virus. To address the urgency of early detection and its potential lifesaving impact, we have undertaken a machine learning project focused on predicting COVID-19 positivity. Our aim is to develop a predictive model that can assist in identifying individuals who may have contracted the virus."
   ]
  },
  {
   "cell_type": "markdown",
   "metadata": {},
   "source": [
    "\n",
    "# Problem Statement\n",
    "\n",
    "### The outbreak of the COVID-19 pandemic has placed an enormous strain on healthcare systems and society at large. The need for efficient testing and early detection of the virus has never been more critical. This project aims to address the following problem:\n",
    "\n",
    "## Problem:\n",
    "### Develop a predictive model to identify individuals who may be COVID-19 positive, with a focus on early detection and the ability to guide timely intervention and public health measures.\n",
    "\n",
    "## Background:\n",
    "### The COVID-19 virus is highly contagious and can spread rapidly through communities. Timely detection of infected individuals is crucial in preventing further transmission and ensuring that those in need of medical care receive prompt attention. Existing testing and contact tracing methods have limitations, and the demand for testing often exceeds available resources. Additionally, infected individuals can be asymptomatic or presymptomatic, making it challenging to identify cases solely based on symptoms.\n",
    "\n",
    "## Importance:\n",
    "### An accurate and early detection model has the potential to revolutionize our approach to combating COVID-19. It can assist in identifying individuals at risk even before symptoms appear or test results are available, thereby reducing the risk of transmission, optimizing healthcare resources, and supporting public health measures. Such a model could be invaluable in the fight against the pandemic.\n",
    "\n",
    "## Objective:\n",
    "### The primary objective of this project is to build a machine learning model that can predict the likelihood of an individual being COVID-19 positive based on a set of relevant features. The model should be capable of making predictions using readily available data, such as demographic information, recent travel history, and potential exposure risks. The goal is to provide a tool that complements existing testing and contact tracing efforts and aids in the early detection and intervention for COVID-19 cases.\n",
    "\n",
    "### In this project, we will explore the development, training, and evaluation of machine learning models to achieve the stated objective. We will also assess the model's performance, address potential challenges, and consider ethical and privacy considerations in the context of public health.\n"
   ]
  },
  {
   "cell_type": "markdown",
   "metadata": {},
   "source": [
    "# Hypotheses\n",
    "\n",
    "1. Hypothesis 1 (Main Hypothesis)**: Machine learning models can accurately predict COVID-19 positivity based on symptoms providing a valuable tool for early detection and intervention.\n",
    "\n",
    "2. **Hypothesis 2**:factors such as age, gender, Haedache, shortness of breath and sore throat information play a significant role in the prediction of COVID-19 positivity.\n",
    "\n",
    "\n",
    "3. **Hypothesis 3**: Machine learning models will be more accurate in predicting COVID-19 positivity for presymptomatic or asymptomatic individuals compared to those already exhibiting symptoms. Early detection is a key strength of the model.\n",
    "\n",
    "\n",
    "4. **Hypothesis 7**: Privacy and ethical considerations are essential in the development and deployment of the model. Striking a balance between public health benefits and individual privacy is a critical aspect of this project.\n",
    "\n",
    "These hypotheses guide our investigation and the development of our machine learning models. We will test these hypotheses through data analysis, model development, and evaluation, and assess their validity in the context of predicting COVID-19 positivity."
   ]
  },
  {
   "cell_type": "markdown",
   "metadata": {},
   "source": [
    "# Now Let's start by importing some important libraries"
   ]
  },
  {
   "cell_type": "code",
   "execution_count": 2,
   "metadata": {},
   "outputs": [],
   "source": [
    "import numpy as np\n",
    "import pandas as pd\n",
    "import matplotlib.pyplot as plt\n",
    "import seaborn as sns\n",
    "from scipy.stats import chi2_contingency\n",
    "from sklearn.preprocessing import LabelEncoder\n",
    "from sklearn.model_selection import train_test_split,GridSearchCV, cross_val_score\n",
    "from sklearn.linear_model import LogisticRegression\n",
    "from sklearn.tree import DecisionTreeClassifier\n",
    "from sklearn.ensemble import RandomForestClassifier\n",
    "import xgboost as xgb\n",
    "from sklearn.metrics import accuracy_score, classification_report\n",
    "from sklearn.model_selection import learning_curve\n",
    "from sklearn.model_selection import  GridSearchCV\n",
    "from sklearn.svm import SVC\n",
    "from sklearn.metrics import ConfusionMatrixDisplay"
   ]
  },
  {
   "cell_type": "markdown",
   "metadata": {},
   "source": [
    "# Prepare Data"
   ]
  },
  {
   "cell_type": "code",
   "execution_count": 3,
   "metadata": {},
   "outputs": [
    {
     "name": "stderr",
     "output_type": "stream",
     "text": [
      "C:\\Users\\MUKESH RAR\\AppData\\Local\\Temp\\ipykernel_3328\\2456390586.py:1: DtypeWarning: Columns (2,3,4,5,6,8) have mixed types. Specify dtype option on import or set low_memory=False.\n",
      "  df= pd.read_csv(\"corona_tested_006.csv\")\n"
     ]
    },
    {
     "data": {
      "text/html": [
       "<div>\n",
       "<style scoped>\n",
       "    .dataframe tbody tr th:only-of-type {\n",
       "        vertical-align: middle;\n",
       "    }\n",
       "\n",
       "    .dataframe tbody tr th {\n",
       "        vertical-align: top;\n",
       "    }\n",
       "\n",
       "    .dataframe thead th {\n",
       "        text-align: right;\n",
       "    }\n",
       "</style>\n",
       "<table border=\"1\" class=\"dataframe\">\n",
       "  <thead>\n",
       "    <tr style=\"text-align: right;\">\n",
       "      <th></th>\n",
       "      <th>Ind_ID</th>\n",
       "      <th>Test_date</th>\n",
       "      <th>Cough_symptoms</th>\n",
       "      <th>Fever</th>\n",
       "      <th>Sore_throat</th>\n",
       "      <th>Shortness_of_breath</th>\n",
       "      <th>Headache</th>\n",
       "      <th>Corona</th>\n",
       "      <th>Age_60_above</th>\n",
       "      <th>Sex</th>\n",
       "      <th>Known_contact</th>\n",
       "    </tr>\n",
       "  </thead>\n",
       "  <tbody>\n",
       "    <tr>\n",
       "      <th>0</th>\n",
       "      <td>1</td>\n",
       "      <td>11-03-2020</td>\n",
       "      <td>True</td>\n",
       "      <td>False</td>\n",
       "      <td>True</td>\n",
       "      <td>False</td>\n",
       "      <td>False</td>\n",
       "      <td>negative</td>\n",
       "      <td>NaN</td>\n",
       "      <td>NaN</td>\n",
       "      <td>Abroad</td>\n",
       "    </tr>\n",
       "    <tr>\n",
       "      <th>1</th>\n",
       "      <td>2</td>\n",
       "      <td>11-03-2020</td>\n",
       "      <td>False</td>\n",
       "      <td>True</td>\n",
       "      <td>False</td>\n",
       "      <td>False</td>\n",
       "      <td>False</td>\n",
       "      <td>positive</td>\n",
       "      <td>NaN</td>\n",
       "      <td>NaN</td>\n",
       "      <td>Abroad</td>\n",
       "    </tr>\n",
       "    <tr>\n",
       "      <th>2</th>\n",
       "      <td>3</td>\n",
       "      <td>11-03-2020</td>\n",
       "      <td>False</td>\n",
       "      <td>True</td>\n",
       "      <td>False</td>\n",
       "      <td>False</td>\n",
       "      <td>False</td>\n",
       "      <td>positive</td>\n",
       "      <td>NaN</td>\n",
       "      <td>NaN</td>\n",
       "      <td>Abroad</td>\n",
       "    </tr>\n",
       "    <tr>\n",
       "      <th>3</th>\n",
       "      <td>4</td>\n",
       "      <td>11-03-2020</td>\n",
       "      <td>True</td>\n",
       "      <td>False</td>\n",
       "      <td>False</td>\n",
       "      <td>False</td>\n",
       "      <td>False</td>\n",
       "      <td>negative</td>\n",
       "      <td>NaN</td>\n",
       "      <td>NaN</td>\n",
       "      <td>Abroad</td>\n",
       "    </tr>\n",
       "    <tr>\n",
       "      <th>4</th>\n",
       "      <td>5</td>\n",
       "      <td>11-03-2020</td>\n",
       "      <td>True</td>\n",
       "      <td>False</td>\n",
       "      <td>False</td>\n",
       "      <td>False</td>\n",
       "      <td>False</td>\n",
       "      <td>negative</td>\n",
       "      <td>NaN</td>\n",
       "      <td>NaN</td>\n",
       "      <td>Contact with confirmed</td>\n",
       "    </tr>\n",
       "  </tbody>\n",
       "</table>\n",
       "</div>"
      ],
      "text/plain": [
       "   Ind_ID   Test_date Cough_symptoms  Fever Sore_throat Shortness_of_breath  \\\n",
       "0       1  11-03-2020           True  False        True               False   \n",
       "1       2  11-03-2020          False   True       False               False   \n",
       "2       3  11-03-2020          False   True       False               False   \n",
       "3       4  11-03-2020           True  False       False               False   \n",
       "4       5  11-03-2020           True  False       False               False   \n",
       "\n",
       "  Headache    Corona Age_60_above  Sex           Known_contact  \n",
       "0    False  negative          NaN  NaN                  Abroad  \n",
       "1    False  positive          NaN  NaN                  Abroad  \n",
       "2    False  positive          NaN  NaN                  Abroad  \n",
       "3    False  negative          NaN  NaN                  Abroad  \n",
       "4    False  negative          NaN  NaN  Contact with confirmed  "
      ]
     },
     "execution_count": 3,
     "metadata": {},
     "output_type": "execute_result"
    }
   ],
   "source": [
    "df= pd.read_csv(\"corona_tested_006.csv\")\n",
    "df.head()"
   ]
  },
  {
   "cell_type": "code",
   "execution_count": 3,
   "metadata": {},
   "outputs": [
    {
     "data": {
      "text/plain": [
       "Index(['Ind_ID', 'Test_date', 'Cough_symptoms', 'Fever', 'Sore_throat',\n",
       "       'Shortness_of_breath', 'Headache', 'Corona', 'Age_60_above', 'Sex',\n",
       "       'Known_contact'],\n",
       "      dtype='object')"
      ]
     },
     "execution_count": 3,
     "metadata": {},
     "output_type": "execute_result"
    }
   ],
   "source": [
    "df.columns"
   ]
  },
  {
   "cell_type": "markdown",
   "metadata": {},
   "source": [
    "Let's check overall data size"
   ]
  },
  {
   "cell_type": "code",
   "execution_count": 4,
   "metadata": {},
   "outputs": [
    {
     "data": {
      "text/plain": [
       "278848"
      ]
     },
     "execution_count": 4,
     "metadata": {},
     "output_type": "execute_result"
    }
   ],
   "source": [
    "len(df)"
   ]
  },
  {
   "cell_type": "markdown",
   "metadata": {},
   "source": [
    "Here let's look into columns and thier data types"
   ]
  },
  {
   "cell_type": "code",
   "execution_count": 5,
   "metadata": {},
   "outputs": [
    {
     "name": "stdout",
     "output_type": "stream",
     "text": [
      "<class 'pandas.core.frame.DataFrame'>\n",
      "RangeIndex: 278848 entries, 0 to 278847\n",
      "Data columns (total 11 columns):\n",
      " #   Column               Non-Null Count   Dtype \n",
      "---  ------               --------------   ----- \n",
      " 0   Ind_ID               278848 non-null  int64 \n",
      " 1   Test_date            278848 non-null  object\n",
      " 2   Cough_symptoms       278596 non-null  object\n",
      " 3   Fever                278596 non-null  object\n",
      " 4   Sore_throat          278847 non-null  object\n",
      " 5   Shortness_of_breath  278847 non-null  object\n",
      " 6   Headache             278847 non-null  object\n",
      " 7   Corona               278848 non-null  object\n",
      " 8   Age_60_above         151528 non-null  object\n",
      " 9   Sex                  259285 non-null  object\n",
      " 10  Known_contact        278848 non-null  object\n",
      "dtypes: int64(1), object(10)\n",
      "memory usage: 23.4+ MB\n"
     ]
    }
   ],
   "source": [
    "df.info()"
   ]
  },
  {
   "cell_type": "markdown",
   "metadata": {},
   "source": [
    "Let's check about null values in our data\n"
   ]
  },
  {
   "cell_type": "code",
   "execution_count": 6,
   "metadata": {},
   "outputs": [
    {
     "data": {
      "text/plain": [
       "Ind_ID                      0\n",
       "Test_date                   0\n",
       "Cough_symptoms            252\n",
       "Fever                     252\n",
       "Sore_throat                 1\n",
       "Shortness_of_breath         1\n",
       "Headache                    1\n",
       "Corona                      0\n",
       "Age_60_above           127320\n",
       "Sex                     19563\n",
       "Known_contact               0\n",
       "dtype: int64"
      ]
     },
     "execution_count": 6,
     "metadata": {},
     "output_type": "execute_result"
    }
   ],
   "source": [
    "df.isnull().sum()"
   ]
  },
  {
   "cell_type": "markdown",
   "metadata": {},
   "source": [
    "We can see that there are some records that contains null values, so let's further investigate it"
   ]
  },
  {
   "cell_type": "code",
   "execution_count": 4,
   "metadata": {},
   "outputs": [
    {
     "name": "stdout",
     "output_type": "stream",
     "text": [
      "Ind_ID has 278848 values: [     1      2      3 ... 278846 278847 278848]\n",
      "Test_date has 51 values: ['11-03-2020' '12-03-2020' '13-03-2020' '14-03-2020' '15-03-2020'\n",
      " '16-03-2020' '17-03-2020' '18-03-2020' '19-03-2020' '20-03-2020'\n",
      " '21-03-2020' '22-03-2020' '23-03-2020' '24-03-2020' '25-03-2020'\n",
      " '26-03-2020' '27-03-2020' '28-03-2020' '29-03-2020' '30-03-2020'\n",
      " '31-03-2020' '01-04-2020' '02-04-2020' '03-04-2020' '04-04-2020'\n",
      " '05-04-2020' '06-04-2020' '07-04-2020' '08-04-2020' '09-04-2020'\n",
      " '10-04-2020' '11-04-2020' '12-04-2020' '13-04-2020' '14-04-2020'\n",
      " '15-04-2020' '16-04-2020' '17-04-2020' '18-04-2020' '19-04-2020'\n",
      " '20-04-2020' '21-04-2020' '22-04-2020' '23-04-2020' '24-04-2020'\n",
      " '25-04-2020' '26-04-2020' '27-04-2020' '28-04-2020' '29-04-2020'\n",
      " '30-04-2020']\n",
      "Cough_symptoms has 2 values: [True False nan]\n",
      "Fever has 2 values: [False True nan]\n",
      "Sore_throat has 2 values: [True False nan]\n",
      "Shortness_of_breath has 2 values: [False True nan]\n",
      "Headache has 2 values: [False True nan]\n",
      "Corona has 3 values: ['negative' 'positive' 'other']\n",
      "Age_60_above has 2 values: [nan 'No' 'Yes']\n",
      "Sex has 2 values: [nan 'male' 'female']\n",
      "Known_contact has 3 values: ['Abroad' 'Contact with confirmed' 'Other']\n"
     ]
    }
   ],
   "source": [
    "for column in df.columns:\n",
    "  unique_values= df[column].nunique()\n",
    "  values= df[column].unique()\n",
    "  print(f\"{column} has {unique_values} values: {values}\")"
   ]
  },
  {
   "cell_type": "markdown",
   "metadata": {},
   "source": [
    "Let's replace nan values with mode value of respective variable"
   ]
  },
  {
   "cell_type": "code",
   "execution_count": 5,
   "metadata": {},
   "outputs": [],
   "source": [
    "for column in df.columns:\n",
    "  df[column]= df[column].fillna(df[column].mode()[0])\n",
    "  df[column]= df[column].replace('None', df[column].mode()[0])\n"
   ]
  },
  {
   "cell_type": "code",
   "execution_count": 6,
   "metadata": {},
   "outputs": [
    {
     "name": "stdout",
     "output_type": "stream",
     "text": [
      "Ind_ID has 278848 values: [     1      2      3 ... 278846 278847 278848]\n",
      "Test_date has 51 values: ['11-03-2020' '12-03-2020' '13-03-2020' '14-03-2020' '15-03-2020'\n",
      " '16-03-2020' '17-03-2020' '18-03-2020' '19-03-2020' '20-03-2020'\n",
      " '21-03-2020' '22-03-2020' '23-03-2020' '24-03-2020' '25-03-2020'\n",
      " '26-03-2020' '27-03-2020' '28-03-2020' '29-03-2020' '30-03-2020'\n",
      " '31-03-2020' '01-04-2020' '02-04-2020' '03-04-2020' '04-04-2020'\n",
      " '05-04-2020' '06-04-2020' '07-04-2020' '08-04-2020' '09-04-2020'\n",
      " '10-04-2020' '11-04-2020' '12-04-2020' '13-04-2020' '14-04-2020'\n",
      " '15-04-2020' '16-04-2020' '17-04-2020' '18-04-2020' '19-04-2020'\n",
      " '20-04-2020' '21-04-2020' '22-04-2020' '23-04-2020' '24-04-2020'\n",
      " '25-04-2020' '26-04-2020' '27-04-2020' '28-04-2020' '29-04-2020'\n",
      " '30-04-2020']\n",
      "Cough_symptoms has 2 values: [ True False]\n",
      "Fever has 2 values: [False  True]\n",
      "Sore_throat has 2 values: [ True False]\n",
      "Shortness_of_breath has 2 values: [False  True]\n",
      "Headache has 2 values: [False  True]\n",
      "Corona has 3 values: ['negative' 'positive' 'other']\n",
      "Age_60_above has 2 values: ['No' 'Yes']\n",
      "Sex has 2 values: ['female' 'male']\n",
      "Known_contact has 3 values: ['Abroad' 'Contact with confirmed' 'Other']\n"
     ]
    }
   ],
   "source": [
    "for column in df.columns:\n",
    "  unique_values= df[column].nunique()\n",
    "  values= df[column].unique()\n",
    "  print(f\"{column} has {unique_values} values: {values}\")"
   ]
  },
  {
   "cell_type": "markdown",
   "metadata": {},
   "source": [
    "variable Corona has 3 values: ['negative' 'positive' 'other'], but ther is no 'other' type patient is possible , it can be either positive or negative, so let's fill this also with mode values"
   ]
  },
  {
   "cell_type": "code",
   "execution_count": 7,
   "metadata": {},
   "outputs": [],
   "source": [
    "df['Corona']=df['Corona'].replace('other', df['Corona'].mode()[0])"
   ]
  },
  {
   "cell_type": "code",
   "execution_count": 8,
   "metadata": {},
   "outputs": [
    {
     "name": "stdout",
     "output_type": "stream",
     "text": [
      "Ind_ID has 278848 values: [     1      2      3 ... 278846 278847 278848]\n",
      "Test_date has 51 values: ['11-03-2020' '12-03-2020' '13-03-2020' '14-03-2020' '15-03-2020'\n",
      " '16-03-2020' '17-03-2020' '18-03-2020' '19-03-2020' '20-03-2020'\n",
      " '21-03-2020' '22-03-2020' '23-03-2020' '24-03-2020' '25-03-2020'\n",
      " '26-03-2020' '27-03-2020' '28-03-2020' '29-03-2020' '30-03-2020'\n",
      " '31-03-2020' '01-04-2020' '02-04-2020' '03-04-2020' '04-04-2020'\n",
      " '05-04-2020' '06-04-2020' '07-04-2020' '08-04-2020' '09-04-2020'\n",
      " '10-04-2020' '11-04-2020' '12-04-2020' '13-04-2020' '14-04-2020'\n",
      " '15-04-2020' '16-04-2020' '17-04-2020' '18-04-2020' '19-04-2020'\n",
      " '20-04-2020' '21-04-2020' '22-04-2020' '23-04-2020' '24-04-2020'\n",
      " '25-04-2020' '26-04-2020' '27-04-2020' '28-04-2020' '29-04-2020'\n",
      " '30-04-2020']\n",
      "Cough_symptoms has 2 values: [ True False]\n",
      "Fever has 2 values: [False  True]\n",
      "Sore_throat has 2 values: [ True False]\n",
      "Shortness_of_breath has 2 values: [False  True]\n",
      "Headache has 2 values: [False  True]\n",
      "Corona has 2 values: ['negative' 'positive']\n",
      "Age_60_above has 2 values: ['No' 'Yes']\n",
      "Sex has 2 values: ['female' 'male']\n",
      "Known_contact has 3 values: ['Abroad' 'Contact with confirmed' 'Other']\n"
     ]
    }
   ],
   "source": [
    "for column in df.columns:\n",
    "  unique_values= df[column].nunique()\n",
    "  values= df[column].unique()\n",
    "  print(f\"{column} has {unique_values} values: {values}\")"
   ]
  },
  {
   "cell_type": "markdown",
   "metadata": {},
   "source": [
    "Now our data is clean and we can proceed futher with eda.."
   ]
  },
  {
   "cell_type": "markdown",
   "metadata": {},
   "source": [
    "### Now let's check feature importmace of each variable with target variable"
   ]
  },
  {
   "cell_type": "code",
   "execution_count": 9,
   "metadata": {},
   "outputs": [
    {
     "name": "stdout",
     "output_type": "stream",
     "text": [
      "Cough_symptoms - Chi-squared: 10569.415074648161, p-value: 0.0\n",
      "Cough_symptoms is likely dependent on the target.\n",
      "\n",
      "Fever - Chi-squared: 19378.570935486066, p-value: 0.0\n",
      "Fever is likely dependent on the target.\n",
      "\n",
      "Sore_throat - Chi-squared: 21183.30774235602, p-value: 0.0\n",
      "Sore_throat is likely dependent on the target.\n",
      "\n",
      "Shortness_of_breath - Chi-squared: 14873.153774171122, p-value: 0.0\n",
      "Shortness_of_breath is likely dependent on the target.\n",
      "\n",
      "Headache - Chi-squared: 37078.834270861014, p-value: 0.0\n",
      "Headache is likely dependent on the target.\n",
      "\n",
      "Age_60_above - Chi-squared: 600.9907438227524, p-value: 1.0193061909600926e-132\n",
      "Age_60_above is likely dependent on the target.\n",
      "\n",
      "Sex - Chi-squared: 140.41458840695748, p-value: 2.160497487725928e-32\n",
      "Sex is likely dependent on the target.\n",
      "\n"
     ]
    }
   ],
   "source": [
    "feature_columns= [\"Cough_symptoms\", \"Fever\", \"Sore_throat\", \"Shortness_of_breath\", \"Headache\", 'Age_60_above', \"Sex\"]\n",
    "target_column= 'Corona'\n",
    "\n",
    "\n",
    "for feature in feature_columns:\n",
    "  contingency_table= pd.crosstab(df[feature], df[target_column])\n",
    "\n",
    "  chi2, p, dof, expected = chi2_contingency(contingency_table)\n",
    "\n",
    "  print(f\"{feature} - Chi-squared: {chi2}, p-value: {p}\")\n",
    "\n",
    "  if p < 0.05:  # Set your significance level (alpha)\n",
    "    print(f\"{feature} is likely dependent on the target.\")\n",
    "  else:\n",
    "    print(f\"{feature} is likely independent of the target.\")\n",
    "\n",
    "  print()"
   ]
  },
  {
   "cell_type": "markdown",
   "metadata": {},
   "source": [
    "We observed that all the features have p<0.5, so all these columns are important."
   ]
  },
  {
   "cell_type": "code",
   "execution_count": 10,
   "metadata": {},
   "outputs": [
    {
     "name": "stdout",
     "output_type": "stream",
     "text": [
      "<class 'pandas.core.frame.DataFrame'>\n",
      "RangeIndex: 278848 entries, 0 to 278847\n",
      "Data columns (total 11 columns):\n",
      " #   Column               Non-Null Count   Dtype \n",
      "---  ------               --------------   ----- \n",
      " 0   Ind_ID               278848 non-null  int64 \n",
      " 1   Test_date            278848 non-null  object\n",
      " 2   Cough_symptoms       278848 non-null  bool  \n",
      " 3   Fever                278848 non-null  bool  \n",
      " 4   Sore_throat          278848 non-null  bool  \n",
      " 5   Shortness_of_breath  278848 non-null  bool  \n",
      " 6   Headache             278848 non-null  bool  \n",
      " 7   Corona               278848 non-null  object\n",
      " 8   Age_60_above         278848 non-null  object\n",
      " 9   Sex                  278848 non-null  object\n",
      " 10  Known_contact        278848 non-null  object\n",
      "dtypes: bool(5), int64(1), object(5)\n",
      "memory usage: 14.1+ MB\n"
     ]
    }
   ],
   "source": [
    "df.info()"
   ]
  },
  {
   "cell_type": "markdown",
   "metadata": {},
   "source": [
    "Let's convert 'Test_date' to datetime.."
   ]
  },
  {
   "cell_type": "code",
   "execution_count": 11,
   "metadata": {},
   "outputs": [],
   "source": [
    "df['Test_date'] = pd.to_datetime(df['Test_date'], format='%d-%m-%Y')"
   ]
  },
  {
   "cell_type": "markdown",
   "metadata": {},
   "source": [
    "Let's save our cleaned data to a csv file"
   ]
  },
  {
   "cell_type": "code",
   "execution_count": 12,
   "metadata": {},
   "outputs": [],
   "source": [
    "df.to_csv('cleaned.csv')"
   ]
  },
  {
   "cell_type": "markdown",
   "metadata": {},
   "source": [
    "#### Let's do one-hot encoding to convert some categorical data into binary variables"
   ]
  },
  {
   "cell_type": "code",
   "execution_count": 13,
   "metadata": {},
   "outputs": [
    {
     "data": {
      "text/html": [
       "<div>\n",
       "<style scoped>\n",
       "    .dataframe tbody tr th:only-of-type {\n",
       "        vertical-align: middle;\n",
       "    }\n",
       "\n",
       "    .dataframe tbody tr th {\n",
       "        vertical-align: top;\n",
       "    }\n",
       "\n",
       "    .dataframe thead th {\n",
       "        text-align: right;\n",
       "    }\n",
       "</style>\n",
       "<table border=\"1\" class=\"dataframe\">\n",
       "  <thead>\n",
       "    <tr style=\"text-align: right;\">\n",
       "      <th></th>\n",
       "      <th>Ind_ID</th>\n",
       "      <th>Test_date</th>\n",
       "      <th>Cough_symptoms</th>\n",
       "      <th>Fever</th>\n",
       "      <th>Sore_throat</th>\n",
       "      <th>Shortness_of_breath</th>\n",
       "      <th>Headache</th>\n",
       "      <th>Known_contact</th>\n",
       "      <th>Age_60_above_Yes</th>\n",
       "      <th>Sex_male</th>\n",
       "      <th>Corona_positive</th>\n",
       "    </tr>\n",
       "  </thead>\n",
       "  <tbody>\n",
       "    <tr>\n",
       "      <th>0</th>\n",
       "      <td>1</td>\n",
       "      <td>2020-03-11</td>\n",
       "      <td>True</td>\n",
       "      <td>False</td>\n",
       "      <td>True</td>\n",
       "      <td>False</td>\n",
       "      <td>False</td>\n",
       "      <td>Abroad</td>\n",
       "      <td>False</td>\n",
       "      <td>False</td>\n",
       "      <td>False</td>\n",
       "    </tr>\n",
       "    <tr>\n",
       "      <th>1</th>\n",
       "      <td>2</td>\n",
       "      <td>2020-03-11</td>\n",
       "      <td>False</td>\n",
       "      <td>True</td>\n",
       "      <td>False</td>\n",
       "      <td>False</td>\n",
       "      <td>False</td>\n",
       "      <td>Abroad</td>\n",
       "      <td>False</td>\n",
       "      <td>False</td>\n",
       "      <td>True</td>\n",
       "    </tr>\n",
       "    <tr>\n",
       "      <th>2</th>\n",
       "      <td>3</td>\n",
       "      <td>2020-03-11</td>\n",
       "      <td>False</td>\n",
       "      <td>True</td>\n",
       "      <td>False</td>\n",
       "      <td>False</td>\n",
       "      <td>False</td>\n",
       "      <td>Abroad</td>\n",
       "      <td>False</td>\n",
       "      <td>False</td>\n",
       "      <td>True</td>\n",
       "    </tr>\n",
       "    <tr>\n",
       "      <th>3</th>\n",
       "      <td>4</td>\n",
       "      <td>2020-03-11</td>\n",
       "      <td>True</td>\n",
       "      <td>False</td>\n",
       "      <td>False</td>\n",
       "      <td>False</td>\n",
       "      <td>False</td>\n",
       "      <td>Abroad</td>\n",
       "      <td>False</td>\n",
       "      <td>False</td>\n",
       "      <td>False</td>\n",
       "    </tr>\n",
       "    <tr>\n",
       "      <th>4</th>\n",
       "      <td>5</td>\n",
       "      <td>2020-03-11</td>\n",
       "      <td>True</td>\n",
       "      <td>False</td>\n",
       "      <td>False</td>\n",
       "      <td>False</td>\n",
       "      <td>False</td>\n",
       "      <td>Contact with confirmed</td>\n",
       "      <td>False</td>\n",
       "      <td>False</td>\n",
       "      <td>False</td>\n",
       "    </tr>\n",
       "  </tbody>\n",
       "</table>\n",
       "</div>"
      ],
      "text/plain": [
       "   Ind_ID  Test_date  Cough_symptoms  Fever  Sore_throat  Shortness_of_breath  \\\n",
       "0       1 2020-03-11            True  False         True                False   \n",
       "1       2 2020-03-11           False   True        False                False   \n",
       "2       3 2020-03-11           False   True        False                False   \n",
       "3       4 2020-03-11            True  False        False                False   \n",
       "4       5 2020-03-11            True  False        False                False   \n",
       "\n",
       "   Headache           Known_contact  Age_60_above_Yes  Sex_male  \\\n",
       "0     False                  Abroad             False     False   \n",
       "1     False                  Abroad             False     False   \n",
       "2     False                  Abroad             False     False   \n",
       "3     False                  Abroad             False     False   \n",
       "4     False  Contact with confirmed             False     False   \n",
       "\n",
       "   Corona_positive  \n",
       "0            False  \n",
       "1             True  \n",
       "2             True  \n",
       "3            False  \n",
       "4            False  "
      ]
     },
     "execution_count": 13,
     "metadata": {},
     "output_type": "execute_result"
    }
   ],
   "source": [
    "df = pd.get_dummies(df, columns=['Age_60_above', 'Sex', 'Corona'], drop_first=True)\n",
    "df.head()"
   ]
  },
  {
   "cell_type": "markdown",
   "metadata": {},
   "source": [
    "Now we are good to go, before that let's check class balance in our data.."
   ]
  },
  {
   "cell_type": "code",
   "execution_count": 14,
   "metadata": {},
   "outputs": [
    {
     "data": {
      "text/plain": [
       "<Axes: title={'center': 'Class Balance'}, xlabel='Class', ylabel='relative freq.'>"
      ]
     },
     "execution_count": 14,
     "metadata": {},
     "output_type": "execute_result"
    },
    {
     "data": {
      "image/png": "[encoded data removed]",
      "text/plain": [
       "<Figure size 640x480 with 1 Axes>"
      ]
     },
     "metadata": {},
     "output_type": "display_data"
    }
   ],
   "source": [
    "# Plot value counts of `\"Corona_positive\"`\n",
    "df[\"Corona_positive\"].value_counts(normalize=True).plot(\n",
    "    kind=\"bar\",\n",
    "    xlabel=\"Class\",\n",
    "    ylabel=\"relative freq.\",\n",
    "    title= \"Class Balance\"\n",
    ")"
   ]
  },
  {
   "cell_type": "markdown",
   "metadata": {},
   "source": [
    "This shows that our data is highly imbalanced, so let's do oversampling/undersampling after spliting the data.."
   ]
  },
  {
   "cell_type": "markdown",
   "metadata": {},
   "source": [
    "## Split"
   ]
  },
  {
   "cell_type": "code",
   "execution_count": 15,
   "metadata": {},
   "outputs": [],
   "source": [
    "threshold_date = pd.to_datetime('2020-04-15')\n",
    "# Split the DataFrame into X_train and X_test based on 'Test_date'\n",
    "X_train = df[df['Test_date'] <= threshold_date].drop(columns='Corona_positive')\n",
    "X_test = df[df['Test_date'] > threshold_date].drop(columns='Corona_positive')\n",
    "y_train= df['Corona_positive'][df['Test_date'] <= threshold_date]\n",
    "y_test= df['Corona_positive'][df['Test_date'] >threshold_date]"
   ]
  },
  {
   "cell_type": "code",
   "execution_count": 16,
   "metadata": {},
   "outputs": [
    {
     "name": "stdout",
     "output_type": "stream",
     "text": [
      "X_train shape: (163189, 10)\n",
      "y_train shape: (163189,)\n",
      "X_test shape: (115659, 10)\n",
      "y_test shape: (115659,)\n"
     ]
    }
   ],
   "source": [
    "print(\"X_train shape:\", X_train.shape)\n",
    "print(\"y_train shape:\", y_train.shape)\n",
    "print(\"X_test shape:\", X_test.shape)\n",
    "print(\"y_test shape:\", y_test.shape)"
   ]
  },
  {
   "cell_type": "code",
   "execution_count": 17,
   "metadata": {},
   "outputs": [
    {
     "data": {
      "text/plain": [
       "True"
      ]
     },
     "execution_count": 17,
     "metadata": {},
     "output_type": "execute_result"
    }
   ],
   "source": [
    "len(df)== len(X_train)+ len(X_test)\n",
    "len(df)==len(y_train)+len(y_test)"
   ]
  },
  {
   "cell_type": "markdown",
   "metadata": {},
   "source": [
    "1. Here 'Ind_ID' is working as a serial number, so we can drop it becuase it is not making any impact on our data.\n",
    "\n",
    "2. Also There is a 'Test_date' column which is showing the testing date and It's not making any significant impact in our analysis, so we will drop it as well.\n",
    "\n",
    "3. Known_contact is containing a lot of 'None' values and it's also not that important, so we will drop it as well."
   ]
  },
  {
   "cell_type": "code",
   "execution_count": 18,
   "metadata": {},
   "outputs": [],
   "source": [
    "X_train= X_train.drop(columns=['Ind_ID', 'Test_date', 'Known_contact']).astype(int)\n",
    "X_test= X_test.drop(columns=['Ind_ID', 'Test_date', 'Known_contact']).astype(int)\n",
    "y_train= y_train.astype(int)\n",
    "y_test= y_test.astype(int)"
   ]
  },
  {
   "cell_type": "markdown",
   "metadata": {},
   "source": [
    "Let's do undersampling..."
   ]
  },
  {
   "cell_type": "code",
   "execution_count": 19,
   "metadata": {},
   "outputs": [],
   "source": [
    "from imblearn.under_sampling import RandomUnderSampler\n",
    "\n",
    "rus= RandomUnderSampler(random_state=True, replacement=True)\n",
    "\n",
    "X_train_under, y_train_under= rus.fit_resample(X_train, y_train)"
   ]
  },
  {
   "cell_type": "code",
   "execution_count": 20,
   "metadata": {},
   "outputs": [
    {
     "data": {
      "text/plain": [
       "<Axes: title={'center': 'Class Balance'}, xlabel='Class', ylabel='relative freq.'>"
      ]
     },
     "execution_count": 20,
     "metadata": {},
     "output_type": "execute_result"
    },
    {
     "data": {
      "image/png": "[encoded data removed]",
      "text/plain": [
       "<Figure size 640x480 with 1 Axes>"
      ]
     },
     "metadata": {},
     "output_type": "display_data"
    }
   ],
   "source": [
    "y_train_under.value_counts(normalize=True).plot(\n",
    "    kind=\"bar\",\n",
    "    xlabel=\"Class\",\n",
    "    ylabel=\"relative freq.\",\n",
    "    title= \"Class Balance\"\n",
    ")"
   ]
  },
  {
   "cell_type": "markdown",
   "metadata": {},
   "source": [
    "Now, we have balanced data.."
   ]
  },
  {
   "cell_type": "markdown",
   "metadata": {},
   "source": [
    "# Build"
   ]
  },
  {
   "cell_type": "markdown",
   "metadata": {},
   "source": [
    "### Baseline:"
   ]
  },
  {
   "cell_type": "markdown",
   "metadata": {},
   "source": [
    "Baseline model is a dumb model which will help us to evaluate that our model is getting trained in right way, after building a model."
   ]
  },
  {
   "cell_type": "code",
   "execution_count": 24,
   "metadata": {},
   "outputs": [
    {
     "name": "stdout",
     "output_type": "stream",
     "text": [
      "Baseline Accuracy: 0.93\n"
     ]
    }
   ],
   "source": [
    "acc_baseline = y_train.value_counts(normalize=True).max()\n",
    "print(\"Baseline Accuracy:\", round(acc_baseline, 2))"
   ]
  },
  {
   "cell_type": "markdown",
   "metadata": {},
   "source": [
    "### Iterate"
   ]
  },
  {
   "cell_type": "code",
   "execution_count": 25,
   "metadata": {},
   "outputs": [],
   "source": [
    "models= {\n",
    "    \"Logistic Regression\": LogisticRegression(),\n",
    "    \"DecisionTreeClassifier\": DecisionTreeClassifier(random_state=True),\n",
    "    \"RandomForestClassifier\": RandomForestClassifier(),\n",
    "    \"XGB\": xgb.XGBClassifier(),\n",
    "    \"SVC\": SVC()\n",
    "}"
   ]
  },
  {
   "cell_type": "code",
   "execution_count": 26,
   "metadata": {},
   "outputs": [
    {
     "name": "stdout",
     "output_type": "stream",
     "text": [
      "Logistic Regression\n",
      "Training Accuracy: 0.8582\n",
      "Test Accuracy: 0.8929\n",
      "DecisionTreeClassifier\n",
      "Training Accuracy: 0.8184\n",
      "Test Accuracy: 0.8633\n",
      "RandomForestClassifier\n",
      "Training Accuracy: 0.8184\n",
      "Test Accuracy: 0.8633\n",
      "XGB\n",
      "Training Accuracy: 0.8184\n",
      "Test Accuracy: 0.8633\n",
      "SVC\n",
      "Training Accuracy: 0.8184\n",
      "Test Accuracy: 0.8633\n"
     ]
    }
   ],
   "source": [
    "for name, model in models.items():\n",
    "    model.fit(X_train_under, y_train_under)\n",
    "    acc_train = model.score(X_train, y_train)\n",
    "    acc_test = model.score(X_test, y_test)\n",
    "\n",
    "    print(name)\n",
    "    print(\"Training Accuracy:\", round(acc_train, 4))\n",
    "    print(\"Test Accuracy:\", round(acc_test, 4))"
   ]
  },
  {
   "cell_type": "code",
   "execution_count": 27,
   "metadata": {},
   "outputs": [
    {
     "data": {
      "image/png": "[encoded data removed]",
      "text/plain": [
       "<Figure size 640x480 with 2 Axes>"
      ]
     },
     "metadata": {},
     "output_type": "display_data"
    }
   ],
   "source": [
    "# Plot confusion matrix\n",
    "ConfusionMatrixDisplay.from_estimator(model, X_test, y_test);"
   ]
  },
  {
   "cell_type": "code",
   "execution_count": 28,
   "metadata": {},
   "outputs": [
    {
     "data": {
      "image/png": "[encoded data removed]",
      "text/plain": [
       "<Figure size 640x480 with 1 Axes>"
      ]
     },
     "metadata": {},
     "output_type": "display_data"
    }
   ],
   "source": [
    "# Get importances\n",
    "importances= models[\"DecisionTreeClassifier\"].feature_importances_\n",
    "# Put importances into a Series\n",
    "feat_imp = pd.Series(importances, index=X_train_under.columns).sort_values()\n",
    "\n",
    "# Plot series\n",
    "feat_imp.tail(15).plot(kind=\"barh\")\n",
    "plt.xlabel(\"Gini Importance\")\n",
    "plt.ylabel(\"Feature\")\n",
    "plt.title(\"model_over Feature Importance\");"
   ]
  },
  {
   "cell_type": "markdown",
   "metadata": {},
   "source": [
    "### Let's do parameter tuning to see if we can improve accuracy of this model: "
   ]
  },
  {
   "cell_type": "markdown",
   "metadata": {},
   "source": [
    "LogisticRegression:"
   ]
  },
  {
   "cell_type": "code",
   "execution_count": 29,
   "metadata": {},
   "outputs": [
    {
     "name": "stdout",
     "output_type": "stream",
     "text": [
      "Fitting 5 folds for each of 5 candidates, totalling 25 fits\n",
      "Best Hyperparameters: {'C': 0.01, 'penalty': 'l2', 'solver': 'lbfgs'}\n",
      "Accuracy: 0.8929006821777813\n",
      "Classification Report:\n",
      "              precision    recall  f1-score   support\n",
      "\n",
      "           0       0.98      0.91      0.94    112961\n",
      "           1       0.07      0.28      0.11      2698\n",
      "\n",
      "    accuracy                           0.89    115659\n",
      "   macro avg       0.52      0.59      0.53    115659\n",
      "weighted avg       0.96      0.89      0.92    115659\n",
      "\n",
      "==================================================\n"
     ]
    }
   ],
   "source": [
    "param_grid = {\n",
    "    'C': [0.001, 0.01, 0.1, 1, 10],  # Regularization strength\n",
    "    'penalty': ['l2'],  # Regularization type\n",
    "    'solver': ['lbfgs']  # Optimization algorithm\n",
    "}\n",
    "\n",
    "model_l = LogisticRegression()\n",
    "\n",
    "grid_search = GridSearchCV(model_l, param_grid, cv=5, scoring='accuracy', n_jobs=-1, verbose=1)\n",
    "grid_search.fit(X_train_under, y_train_under)\n",
    "\n",
    "best_params = grid_search.best_params_\n",
    "print(\"Best Hyperparameters:\", best_params)\n",
    "\n",
    "\n",
    "y_pred= grid_search.predict(X_test)\n",
    "\n",
    "accuracy= accuracy_score(y_test, y_pred)\n",
    "\n",
    "report = classification_report(y_test, y_pred)\n",
    "\n",
    "print(f\"Accuracy: {accuracy}\")\n",
    "print(\"Classification Report:\")\n",
    "print(report)\n",
    "print(\"=\" * 50)"
   ]
  },
  {
   "cell_type": "markdown",
   "metadata": {},
   "source": [
    "DecisionTreeClassifier:"
   ]
  },
  {
   "cell_type": "code",
   "execution_count": 30,
   "metadata": {},
   "outputs": [
    {
     "name": "stdout",
     "output_type": "stream",
     "text": [
      "Fitting 5 folds for each of 4 candidates, totalling 20 fits\n",
      "Best Hyperparameters: {'max_depth': 10}\n",
      "Accuracy: 0.863279122247296\n",
      "Classification Report:\n",
      "              precision    recall  f1-score   support\n",
      "\n",
      "           0       0.98      0.87      0.93    112961\n",
      "           1       0.07      0.38      0.11      2698\n",
      "\n",
      "    accuracy                           0.86    115659\n",
      "   macro avg       0.53      0.63      0.52    115659\n",
      "weighted avg       0.96      0.86      0.91    115659\n",
      "\n",
      "==================================================\n"
     ]
    }
   ],
   "source": [
    "params = {\n",
    "    \"max_depth\":range(10,50,10)\n",
    "}\n",
    "\n",
    "model_d = DecisionTreeClassifier()\n",
    "\n",
    "grid_search = GridSearchCV(model_d, param_grid= params, cv=5, scoring='accuracy', n_jobs=-1, verbose=1)\n",
    "grid_search.fit(X_train_under, y_train_under)\n",
    "\n",
    "best_params = grid_search.best_params_\n",
    "print(\"Best Hyperparameters:\", best_params)\n",
    "\n",
    "\n",
    "\n",
    "y_pred= grid_search.predict(X_test)\n",
    "\n",
    "accuracy= accuracy_score(y_test, y_pred)\n",
    "\n",
    "report = classification_report(y_test, y_pred)\n",
    "\n",
    "print(f\"Accuracy: {accuracy}\")\n",
    "print(\"Classification Report:\")\n",
    "print(report)\n",
    "print(\"=\" * 50)"
   ]
  },
  {
   "cell_type": "markdown",
   "metadata": {},
   "source": [
    "RandomForests"
   ]
  },
  {
   "cell_type": "code",
   "execution_count": 31,
   "metadata": {},
   "outputs": [
    {
     "name": "stdout",
     "output_type": "stream",
     "text": [
      "Fitting 5 folds for each of 12 candidates, totalling 60 fits\n",
      "Best Hyperparameters: {'max_depth': 40, 'n_estimators': 50}\n",
      "Accuracy: 0.863279122247296\n",
      "Classification Report:\n",
      "              precision    recall  f1-score   support\n",
      "\n",
      "           0       0.98      0.87      0.93    112961\n",
      "           1       0.07      0.38      0.11      2698\n",
      "\n",
      "    accuracy                           0.86    115659\n",
      "   macro avg       0.53      0.63      0.52    115659\n",
      "weighted avg       0.96      0.86      0.91    115659\n",
      "\n",
      "==================================================\n"
     ]
    }
   ],
   "source": [
    "params = {\n",
    "    \"n_estimators\":range(25,100,25),\n",
    "    \"max_depth\":range(10,50,10)\n",
    "}\n",
    "\n",
    "model_r = RandomForestClassifier()\n",
    "\n",
    "grid_search = GridSearchCV(model_r, param_grid= params, cv=5, scoring='accuracy', n_jobs=-1, verbose=1)\n",
    "grid_search.fit(X_train_under, y_train_under)\n",
    "\n",
    "best_params = grid_search.best_params_\n",
    "print(\"Best Hyperparameters:\", best_params)\n",
    "\n",
    "\n",
    "y_pred= grid_search.predict(X_test)\n",
    "\n",
    "accuracy= accuracy_score(y_test, y_pred)\n",
    "\n",
    "report = classification_report(y_test, y_pred)\n",
    "\n",
    "print(f\"Accuracy: {accuracy}\")\n",
    "print(\"Classification Report:\")\n",
    "print(report)\n",
    "print(\"=\" * 50)"
   ]
  },
  {
   "cell_type": "markdown",
   "metadata": {},
   "source": [
    "XgBoost:"
   ]
  },
  {
   "cell_type": "code",
   "execution_count": 32,
   "metadata": {},
   "outputs": [
    {
     "name": "stdout",
     "output_type": "stream",
     "text": [
      "Fitting 5 folds for each of 12 candidates, totalling 60 fits\n",
      "Best Hyperparameters: {'max_depth': 10, 'n_estimators': 25}\n",
      "Accuracy: 0.863279122247296\n",
      "Classification Report:\n",
      "              precision    recall  f1-score   support\n",
      "\n",
      "           0       0.98      0.87      0.93    112961\n",
      "           1       0.07      0.38      0.11      2698\n",
      "\n",
      "    accuracy                           0.86    115659\n",
      "   macro avg       0.53      0.63      0.52    115659\n",
      "weighted avg       0.96      0.86      0.91    115659\n",
      "\n",
      "==================================================\n"
     ]
    }
   ],
   "source": [
    "param_grid = {\n",
    "    \"n_estimators\":range(25,100,25),\n",
    "    \"max_depth\":range(10,50,10)\n",
    "}\n",
    "\n",
    "model_x = xgb.XGBClassifier()\n",
    "\n",
    "\n",
    "grid_search = GridSearchCV(model_x, param_grid, cv=5, scoring='accuracy', n_jobs=-1, verbose=1)\n",
    "grid_search.fit(X_train_under, y_train_under)\n",
    "\n",
    "best_params = grid_search.best_params_\n",
    "print(\"Best Hyperparameters:\", best_params)\n",
    "\n",
    "\n",
    "y_pred= grid_search.predict(X_test)\n",
    "\n",
    "accuracy= accuracy_score(y_test, y_pred)\n",
    "\n",
    "report = classification_report(y_test, y_pred)\n",
    "\n",
    "print(f\"Accuracy: {accuracy}\")\n",
    "print(\"Classification Report:\")\n",
    "print(report)\n",
    "print(\"=\" * 50)"
   ]
  },
  {
   "cell_type": "markdown",
   "metadata": {},
   "source": [
    "### SVC:"
   ]
  },
  {
   "cell_type": "code",
   "execution_count": 22,
   "metadata": {},
   "outputs": [
    {
     "name": "stdout",
     "output_type": "stream",
     "text": [
      "Fitting 5 folds for each of 25 candidates, totalling 125 fits\n",
      "[CV 1/5] END ........C=0.1, gamma=1, kernel=rbf;, score=0.812 total time=47.2min\n",
      "[CV 2/5] END ........C=0.1, gamma=1, kernel=rbf;, score=0.795 total time=  11.3s\n",
      "[CV 3/5] END ........C=0.1, gamma=1, kernel=rbf;, score=0.772 total time=  10.9s\n",
      "[CV 4/5] END ........C=0.1, gamma=1, kernel=rbf;, score=0.733 total time=  10.5s\n",
      "[CV 5/5] END ........C=0.1, gamma=1, kernel=rbf;, score=0.711 total time=  10.2s\n",
      "[CV 1/5] END ......C=0.1, gamma=0.1, kernel=rbf;, score=0.812 total time=  13.6s\n",
      "[CV 2/5] END ......C=0.1, gamma=0.1, kernel=rbf;, score=0.795 total time=  13.0s\n",
      "[CV 3/5] END ......C=0.1, gamma=0.1, kernel=rbf;, score=0.772 total time=  13.1s\n",
      "[CV 4/5] END ......C=0.1, gamma=0.1, kernel=rbf;, score=0.733 total time=  12.2s\n",
      "[CV 5/5] END ......C=0.1, gamma=0.1, kernel=rbf;, score=0.654 total time=  11.5s\n",
      "[CV 1/5] END .....C=0.1, gamma=0.01, kernel=rbf;, score=0.802 total time=  16.6s\n",
      "[CV 2/5] END .....C=0.1, gamma=0.01, kernel=rbf;, score=0.766 total time=  16.4s\n",
      "[CV 3/5] END .....C=0.1, gamma=0.01, kernel=rbf;, score=0.757 total time=  16.2s\n",
      "[CV 4/5] END .....C=0.1, gamma=0.01, kernel=rbf;, score=0.700 total time=  15.7s\n",
      "[CV 5/5] END .....C=0.1, gamma=0.01, kernel=rbf;, score=0.649 total time=  15.5s\n",
      "[CV 1/5] END ....C=0.1, gamma=0.001, kernel=rbf;, score=0.683 total time=  23.1s\n",
      "[CV 2/5] END ....C=0.1, gamma=0.001, kernel=rbf;, score=0.650 total time=  22.9s\n",
      "[CV 3/5] END ....C=0.1, gamma=0.001, kernel=rbf;, score=0.645 total time=  22.9s\n",
      "[CV 4/5] END ....C=0.1, gamma=0.001, kernel=rbf;, score=0.616 total time=  23.2s\n",
      "[CV 5/5] END ....C=0.1, gamma=0.001, kernel=rbf;, score=0.598 total time=  23.6s\n",
      "[CV 1/5] END ...C=0.1, gamma=0.0001, kernel=rbf;, score=0.500 total time=  23.0s\n",
      "[CV 2/5] END ...C=0.1, gamma=0.0001, kernel=rbf;, score=0.500 total time=  23.8s\n",
      "[CV 3/5] END ...C=0.1, gamma=0.0001, kernel=rbf;, score=0.638 total time=  23.1s\n",
      "[CV 4/5] END ...C=0.1, gamma=0.0001, kernel=rbf;, score=0.603 total time=  23.5s\n",
      "[CV 5/5] END ...C=0.1, gamma=0.0001, kernel=rbf;, score=0.591 total time=  23.5s\n",
      "[CV 1/5] END ..........C=1, gamma=1, kernel=rbf;, score=0.812 total time=  11.2s\n",
      "[CV 2/5] END ..........C=1, gamma=1, kernel=rbf;, score=0.795 total time=  10.8s\n",
      "[CV 3/5] END ..........C=1, gamma=1, kernel=rbf;, score=0.772 total time=  10.7s\n",
      "[CV 4/5] END ..........C=1, gamma=1, kernel=rbf;, score=0.733 total time=  10.3s\n",
      "[CV 5/5] END ..........C=1, gamma=1, kernel=rbf;, score=0.687 total time=  10.1s\n",
      "[CV 1/5] END ........C=1, gamma=0.1, kernel=rbf;, score=0.812 total time=  12.7s\n",
      "[CV 2/5] END ........C=1, gamma=0.1, kernel=rbf;, score=0.795 total time=  11.7s\n",
      "[CV 3/5] END ........C=1, gamma=0.1, kernel=rbf;, score=0.772 total time=  12.5s\n",
      "[CV 4/5] END ........C=1, gamma=0.1, kernel=rbf;, score=0.733 total time=  11.2s\n",
      "[CV 5/5] END ........C=1, gamma=0.1, kernel=rbf;, score=0.711 total time=  10.8s\n",
      "[CV 1/5] END .......C=1, gamma=0.01, kernel=rbf;, score=0.815 total time=  13.7s\n",
      "[CV 2/5] END .......C=1, gamma=0.01, kernel=rbf;, score=0.783 total time=  23.2s\n",
      "[CV 3/5] END .......C=1, gamma=0.01, kernel=rbf;, score=0.774 total time=  26.0s\n",
      "[CV 4/5] END .......C=1, gamma=0.01, kernel=rbf;, score=0.714 total time=  24.5s\n",
      "[CV 5/5] END .......C=1, gamma=0.01, kernel=rbf;, score=0.654 total time=  22.9s\n",
      "[CV 1/5] END ......C=1, gamma=0.001, kernel=rbf;, score=0.802 total time=  32.4s\n",
      "[CV 2/5] END ......C=1, gamma=0.001, kernel=rbf;, score=0.766 total time=  31.9s\n",
      "[CV 3/5] END ......C=1, gamma=0.001, kernel=rbf;, score=0.757 total time=  31.4s\n",
      "[CV 4/5] END ......C=1, gamma=0.001, kernel=rbf;, score=0.700 total time=  30.6s\n",
      "[CV 5/5] END ......C=1, gamma=0.001, kernel=rbf;, score=0.649 total time=  30.3s\n",
      "[CV 1/5] END .....C=1, gamma=0.0001, kernel=rbf;, score=0.683 total time=  43.5s\n",
      "[CV 2/5] END .....C=1, gamma=0.0001, kernel=rbf;, score=0.650 total time=  43.6s\n",
      "[CV 3/5] END .....C=1, gamma=0.0001, kernel=rbf;, score=0.645 total time=  46.1s\n",
      "[CV 4/5] END .....C=1, gamma=0.0001, kernel=rbf;, score=0.616 total time=  44.7s\n",
      "[CV 5/5] END .....C=1, gamma=0.0001, kernel=rbf;, score=0.598 total time=  44.8s\n",
      "[CV 1/5] END .........C=10, gamma=1, kernel=rbf;, score=0.812 total time=  22.5s\n",
      "[CV 2/5] END .........C=10, gamma=1, kernel=rbf;, score=0.795 total time=  20.1s\n",
      "[CV 3/5] END .........C=10, gamma=1, kernel=rbf;, score=0.772 total time=  19.6s\n",
      "[CV 4/5] END .........C=10, gamma=1, kernel=rbf;, score=0.733 total time=  19.0s\n",
      "[CV 5/5] END .........C=10, gamma=1, kernel=rbf;, score=0.687 total time=  18.3s\n",
      "[CV 1/5] END .......C=10, gamma=0.1, kernel=rbf;, score=0.812 total time=  21.3s\n",
      "[CV 2/5] END .......C=10, gamma=0.1, kernel=rbf;, score=0.795 total time=  21.2s\n",
      "[CV 3/5] END .......C=10, gamma=0.1, kernel=rbf;, score=0.772 total time=  20.3s\n",
      "[CV 4/5] END .......C=10, gamma=0.1, kernel=rbf;, score=0.733 total time=  19.2s\n",
      "[CV 5/5] END .......C=10, gamma=0.1, kernel=rbf;, score=0.711 total time=  19.5s\n",
      "[CV 1/5] END ......C=10, gamma=0.01, kernel=rbf;, score=0.812 total time=  23.3s\n",
      "[CV 2/5] END ......C=10, gamma=0.01, kernel=rbf;, score=0.795 total time=  22.4s\n",
      "[CV 3/5] END ......C=10, gamma=0.01, kernel=rbf;, score=0.772 total time=  22.3s\n",
      "[CV 4/5] END ......C=10, gamma=0.01, kernel=rbf;, score=0.733 total time=  20.4s\n",
      "[CV 5/5] END ......C=10, gamma=0.01, kernel=rbf;, score=0.654 total time=  19.3s\n",
      "[CV 1/5] END .....C=10, gamma=0.001, kernel=rbf;, score=0.815 total time=  24.9s\n",
      "[CV 2/5] END .....C=10, gamma=0.001, kernel=rbf;, score=0.783 total time=  23.6s\n",
      "[CV 3/5] END .....C=10, gamma=0.001, kernel=rbf;, score=0.774 total time=  23.8s\n",
      "[CV 4/5] END .....C=10, gamma=0.001, kernel=rbf;, score=0.714 total time=  22.9s\n",
      "[CV 5/5] END .....C=10, gamma=0.001, kernel=rbf;, score=0.654 total time=  22.4s\n",
      "[CV 1/5] END ....C=10, gamma=0.0001, kernel=rbf;, score=0.802 total time=  32.1s\n",
      "[CV 2/5] END ....C=10, gamma=0.0001, kernel=rbf;, score=0.766 total time=  31.1s\n",
      "[CV 3/5] END ....C=10, gamma=0.0001, kernel=rbf;, score=0.757 total time=  17.1s\n",
      "[CV 4/5] END ....C=10, gamma=0.0001, kernel=rbf;, score=0.700 total time=  16.7s\n",
      "[CV 5/5] END ....C=10, gamma=0.0001, kernel=rbf;, score=0.649 total time=  16.5s\n",
      "[CV 1/5] END ........C=100, gamma=1, kernel=rbf;, score=0.812 total time=  12.2s\n",
      "[CV 2/5] END ........C=100, gamma=1, kernel=rbf;, score=0.795 total time=  12.0s\n",
      "[CV 3/5] END ........C=100, gamma=1, kernel=rbf;, score=0.772 total time=  11.4s\n",
      "[CV 4/5] END ........C=100, gamma=1, kernel=rbf;, score=0.733 total time=  11.0s\n",
      "[CV 5/5] END ........C=100, gamma=1, kernel=rbf;, score=0.687 total time=  10.9s\n",
      "[CV 1/5] END ......C=100, gamma=0.1, kernel=rbf;, score=0.812 total time=  13.9s\n",
      "[CV 2/5] END ......C=100, gamma=0.1, kernel=rbf;, score=0.795 total time=  13.4s\n",
      "[CV 3/5] END ......C=100, gamma=0.1, kernel=rbf;, score=0.772 total time=  12.9s\n",
      "[CV 4/5] END ......C=100, gamma=0.1, kernel=rbf;, score=0.733 total time=  12.6s\n",
      "[CV 5/5] END ......C=100, gamma=0.1, kernel=rbf;, score=0.711 total time=  13.0s\n",
      "[CV 1/5] END .....C=100, gamma=0.01, kernel=rbf;, score=0.812 total time=  14.6s\n",
      "[CV 2/5] END .....C=100, gamma=0.01, kernel=rbf;, score=0.795 total time=  16.9s\n",
      "[CV 3/5] END .....C=100, gamma=0.01, kernel=rbf;, score=0.772 total time=  16.7s\n",
      "[CV 4/5] END .....C=100, gamma=0.01, kernel=rbf;, score=0.733 total time=  15.8s\n",
      "[CV 5/5] END .....C=100, gamma=0.01, kernel=rbf;, score=0.711 total time=  18.8s\n",
      "[CV 1/5] END ....C=100, gamma=0.001, kernel=rbf;, score=0.815 total time=  14.1s\n",
      "[CV 2/5] END ....C=100, gamma=0.001, kernel=rbf;, score=0.783 total time=  13.5s\n",
      "[CV 3/5] END ....C=100, gamma=0.001, kernel=rbf;, score=0.774 total time=  13.4s\n",
      "[CV 4/5] END ....C=100, gamma=0.001, kernel=rbf;, score=0.714 total time=  12.4s\n",
      "[CV 5/5] END ....C=100, gamma=0.001, kernel=rbf;, score=0.654 total time=  12.1s\n",
      "[CV 1/5] END ...C=100, gamma=0.0001, kernel=rbf;, score=0.815 total time=  15.7s\n",
      "[CV 2/5] END ...C=100, gamma=0.0001, kernel=rbf;, score=0.783 total time=  14.3s\n",
      "[CV 3/5] END ...C=100, gamma=0.0001, kernel=rbf;, score=0.774 total time=  14.0s\n",
      "[CV 4/5] END ...C=100, gamma=0.0001, kernel=rbf;, score=0.714 total time=  13.6s\n",
      "[CV 5/5] END ...C=100, gamma=0.0001, kernel=rbf;, score=0.654 total time=  13.6s\n",
      "[CV 1/5] END .......C=1000, gamma=1, kernel=rbf;, score=0.812 total time=  12.1s\n",
      "[CV 2/5] END .......C=1000, gamma=1, kernel=rbf;, score=0.795 total time=  12.0s\n",
      "[CV 3/5] END .......C=1000, gamma=1, kernel=rbf;, score=0.772 total time=  11.4s\n",
      "[CV 4/5] END .......C=1000, gamma=1, kernel=rbf;, score=0.733 total time=  11.1s\n",
      "[CV 5/5] END .......C=1000, gamma=1, kernel=rbf;, score=0.687 total time=  10.9s\n",
      "[CV 1/5] END .....C=1000, gamma=0.1, kernel=rbf;, score=0.812 total time=  14.5s\n",
      "[CV 2/5] END .....C=1000, gamma=0.1, kernel=rbf;, score=0.795 total time=  13.2s\n",
      "[CV 3/5] END .....C=1000, gamma=0.1, kernel=rbf;, score=0.772 total time=  14.5s\n",
      "[CV 4/5] END .....C=1000, gamma=0.1, kernel=rbf;, score=0.733 total time=  13.3s\n",
      "[CV 5/5] END .....C=1000, gamma=0.1, kernel=rbf;, score=0.687 total time=  15.3s\n",
      "[CV 1/5] END ....C=1000, gamma=0.01, kernel=rbf;, score=0.812 total time=  23.0s\n",
      "[CV 2/5] END ....C=1000, gamma=0.01, kernel=rbf;, score=0.795 total time=  27.3s\n",
      "[CV 3/5] END ....C=1000, gamma=0.01, kernel=rbf;, score=0.772 total time=  26.9s\n",
      "[CV 4/5] END ....C=1000, gamma=0.01, kernel=rbf;, score=0.733 total time=  33.6s\n",
      "[CV 5/5] END ....C=1000, gamma=0.01, kernel=rbf;, score=0.711 total time=  25.4s\n",
      "[CV 1/5] END ...C=1000, gamma=0.001, kernel=rbf;, score=0.812 total time=  22.2s\n",
      "[CV 2/5] END ...C=1000, gamma=0.001, kernel=rbf;, score=0.795 total time=  21.7s\n",
      "[CV 3/5] END ...C=1000, gamma=0.001, kernel=rbf;, score=0.772 total time=  23.5s\n",
      "[CV 4/5] END ...C=1000, gamma=0.001, kernel=rbf;, score=0.733 total time=  13.9s\n",
      "[CV 5/5] END ...C=1000, gamma=0.001, kernel=rbf;, score=0.654 total time=  21.7s\n",
      "[CV 1/5] END ..C=1000, gamma=0.0001, kernel=rbf;, score=0.815 total time=  17.7s\n",
      "[CV 2/5] END ..C=1000, gamma=0.0001, kernel=rbf;, score=0.783 total time=  14.5s\n",
      "[CV 3/5] END ..C=1000, gamma=0.0001, kernel=rbf;, score=0.774 total time=  14.8s\n",
      "[CV 4/5] END ..C=1000, gamma=0.0001, kernel=rbf;, score=0.714 total time=  13.9s\n",
      "[CV 5/5] END ..C=1000, gamma=0.0001, kernel=rbf;, score=0.654 total time=  15.2s\n",
      "{'C': 0.1, 'gamma': 1, 'kernel': 'rbf'}\n",
      "SVC(C=0.1, gamma=1)\n",
      "Accuracy: 0.863279122247296\n",
      "Classification Report:\n",
      "              precision    recall  f1-score   support\n",
      "\n",
      "           0       0.98      0.87      0.93    112961\n",
      "           1       0.07      0.38      0.11      2698\n",
      "\n",
      "    accuracy                           0.86    115659\n",
      "   macro avg       0.53      0.63      0.52    115659\n",
      "weighted avg       0.96      0.86      0.91    115659\n",
      "\n",
      "==================================================\n"
     ]
    }
   ],
   "source": [
    "# Create an SVC classifier\n",
    "model_s = SVC()\n",
    "\n",
    "\n",
    "param_grid = {'C': [0.1, 1, 10, 100, 1000],  \n",
    "              'gamma': [1, 0.1, 0.01, 0.001, 0.0001], \n",
    "              'kernel': ['rbf']}  \n",
    "  \n",
    "grid = GridSearchCV(model_s, param_grid, refit = True, verbose = 3) \n",
    "  \n",
    "# fitting the model for grid search \n",
    "grid.fit(X_train_under, y_train_under) \n",
    "\n",
    "y_pred= grid.predict(X_test)\n",
    "# print best parameter after tuning \n",
    "print(grid.best_params_) \n",
    "  \n",
    "# print how our model looks after hyper-parameter tuning \n",
    "print(grid.best_estimator_) \n",
    "\n",
    "# Calculate accuracy and print the results\n",
    "\n",
    "accuracy= accuracy_score(y_test, y_pred)\n",
    "\n",
    "report = classification_report(y_test, y_pred)\n",
    "\n",
    "print(f\"Accuracy: {accuracy}\")\n",
    "print(\"Classification Report:\")\n",
    "print(report)\n",
    "print(\"=\" * 50)"
   ]
  },
  {
   "cell_type": "markdown",
   "metadata": {},
   "source": [
    "# Conclusion"
   ]
  },
  {
   "cell_type": "markdown",
   "metadata": {},
   "source": [
    "The SVC model achieved a test accuracy of 0.9276, which is the highest among the models and almost near to baseline accuracy. This suggests that the SVC model performed the best in terms of classifying the test data."
   ]
  },
  {
   "cell_type": "markdown",
   "metadata": {},
   "source": [
    "# SQL"
   ]
  },
  {
   "cell_type": "code",
   "execution_count": null,
   "metadata": {},
   "outputs": [],
   "source": [
    "data= pd.read_csv(\"cleaned.csv\", index_col= 'Ind_ID')\n",
    "data.drop(columns='Unnamed: 0', axis= 0, inplace=True)\n",
    "data.head()"
   ]
  },
  {
   "cell_type": "code",
   "execution_count": null,
   "metadata": {},
   "outputs": [],
   "source": [
    "data[\"Test_date\"]= pd.to_datetime(data[\"Test_date\"])"
   ]
  },
  {
   "cell_type": "code",
   "execution_count": null,
   "metadata": {},
   "outputs": [],
   "source": [
    "import duckdb\n",
    "conn= duckdb.connect()\n",
    "conn.register('data', data)\n"
   ]
  },
  {
   "cell_type": "markdown",
   "metadata": {},
   "source": [
    "1. Find the number of corona patients who faced shortness of breath."
   ]
  },
  {
   "cell_type": "code",
   "execution_count": null,
   "metadata": {},
   "outputs": [],
   "source": [
    "conn.execute(\"select count(*) from data where Shortness_of_breath=True\").fetchdf()"
   ]
  },
  {
   "cell_type": "markdown",
   "metadata": {},
   "source": [
    "2. Find the number of negative corona patients who have fever and sore_throat. "
   ]
  },
  {
   "cell_type": "code",
   "execution_count": null,
   "metadata": {},
   "outputs": [],
   "source": [
    "conn.execute(\"select count(*) from data where Corona='negative' and Fever=True and Sore_throat=True\").fetchdf()"
   ]
  },
  {
   "cell_type": "markdown",
   "metadata": {},
   "source": [
    "3. Group the data by month and rank the number of positive cases."
   ]
  },
  {
   "cell_type": "code",
   "execution_count": null,
   "metadata": {},
   "outputs": [],
   "source": [
    "conn.execute(\"select strftime(data['Test_date'], '%m') as month, count(case when Corona='positive' then 1 else 0 end) as postive_cases, dense_rank() over(order by count(case when Corona='positive' then 1 else 0 end)) as rank from data group by month\").fetchdf()"
   ]
  },
  {
   "cell_type": "markdown",
   "metadata": {},
   "source": [
    "4. Find the female negative corona patients who faced cough and headache."
   ]
  },
  {
   "cell_type": "code",
   "execution_count": null,
   "metadata": {},
   "outputs": [],
   "source": [
    "conn.execute(\"select * from data where Sex= 'female' and Corona='negative' and Cough_symptoms=True and Headache=True\").fetchdf()"
   ]
  },
  {
   "cell_type": "markdown",
   "metadata": {},
   "source": [
    "5. How many elderly corona patients have faced breathing problems?"
   ]
  },
  {
   "cell_type": "code",
   "execution_count": null,
   "metadata": {},
   "outputs": [],
   "source": [
    "conn.execute(\"select count(*) from data where Shortness_of_breath=True and Age_60_above='Yes'\").fetchdf()"
   ]
  },
  {
   "cell_type": "code",
   "execution_count": null,
   "metadata": {},
   "outputs": [],
   "source": [
    "data[[\"Cough_symptoms\", \"Fever\", \"Sore_throat\", \"Shortness_of_breath\", \"Headache\"]]= data[[\"Cough_symptoms\", \"Fever\", \"Sore_throat\", \"Shortness_of_breath\", \"Headache\"]].astype(int);"
   ]
  },
  {
   "cell_type": "markdown",
   "metadata": {},
   "source": [
    "6. Which three symptoms were more common among COVID positive patients?"
   ]
  },
  {
   "cell_type": "code",
   "execution_count": null,
   "metadata": {},
   "outputs": [],
   "source": [
    "query= \"\"\"SELECT Symptom, SymptomCount AS Most_Common_Symptom FROM (\n",
    "    SELECT\n",
    "        'Cough_symptoms' AS Symptom, COUNT(case Cough_symptoms when 1 then 1 else 0 end) AS SymptomCount FROM data WHERE Corona = 'positive'\n",
    "    UNION ALL\n",
    "    SELECT\n",
    "        'Fever' AS Symptom, COUNT(case Fever when 1 then 1 else 0 end) AS SymptomCount FROM data WHERE Corona = 'positive'\n",
    "    UNION ALL\n",
    "    SELECT\n",
    "        'Sore_throat' AS Symptom, COUNT(case Sore_throat when 1 then 1 else 0 end) AS SymptomCount FROM data WHERE Corona = 'positive'\n",
    "    UNION ALL\n",
    "    SELECT\n",
    "        'Shortness_of_breath' AS Symptom, COUNT(case Shortness_of_breath when 1 then 1 else 0 end) AS SymptomCount FROM data WHERE Corona = 'positive'\n",
    "    UNION ALL\n",
    "    SELECT\n",
    "        'Headache' AS Symptom, SUM(case Headache when 1 then 1 else 0 end) AS SymptomCount FROM data WHERE Corona = 'positive'\n",
    ") order by SymptomCount desc limit 3\n",
    "\"\"\"\n",
    "\n",
    "conn.execute(query).fetchdf()"
   ]
  },
  {
   "cell_type": "markdown",
   "metadata": {},
   "source": [
    "7. Which symptom was less common among COVID negative people?"
   ]
  },
  {
   "cell_type": "code",
   "execution_count": null,
   "metadata": {},
   "outputs": [],
   "source": [
    "query= \"\"\"SELECT Symptom, SymptomCount AS Most_Common_Symptom FROM (\n",
    "    SELECT\n",
    "        'Cough_symptoms' AS Symptom, COUNT(case Cough_symptoms when 1 then 1 else 0 end) AS SymptomCount FROM data WHERE Corona = 'negative'\n",
    "    UNION ALL\n",
    "    SELECT\n",
    "        'Fever' AS Symptom, COUNT(case Fever when 1 then 1 else 0 end) AS SymptomCount FROM data WHERE Corona = 'negative'\n",
    "    UNION ALL\n",
    "    SELECT\n",
    "        'Sore_throat' AS Symptom, COUNT(case Sore_throat when 1 then 1 else 0 end) AS SymptomCount FROM data WHERE Corona = 'negative'\n",
    "    UNION ALL\n",
    "    SELECT\n",
    "        'Shortness_of_breath' AS Symptom, COUNT(case Shortness_of_breath when 1 then 1 else 0 end) AS SymptomCount FROM data WHERE Corona = 'negative'\n",
    "    UNION ALL\n",
    "    SELECT\n",
    "        'Headache' AS Symptom, SUM(case Headache when 1 then 1 else 0 end) AS SymptomCount FROM data WHERE Corona = 'negative'\n",
    ") order by SymptomCount asc limit 3\n",
    "\"\"\"\n",
    "\n",
    "conn.execute(query).fetchdf()"
   ]
  },
  {
   "cell_type": "markdown",
   "metadata": {},
   "source": [
    "\n",
    "8. What are the most common symptoms among COVID positive males whose known contact was abroad? "
   ]
  },
  {
   "cell_type": "code",
   "execution_count": null,
   "metadata": {},
   "outputs": [],
   "source": [
    "query= \"\"\"SELECT Symptom, SymptomCount AS Most_Common_Symptom FROM (\n",
    "    SELECT\n",
    "        'Cough_symptoms' AS Symptom, COUNT(case Cough_symptoms when 1 then 1 else 0 end) AS SymptomCount FROM data WHERE Corona = 'positive' AND Known_contact = 'Abroad' AND Sex='female'\n",
    "    UNION ALL\n",
    "    SELECT\n",
    "        'Fever' AS Symptom, COUNT(case Fever when 1 then 1 else 0 end) AS SymptomCount FROM data WHERE Corona = 'positive' AND Known_contact = 'Abroad' AND Sex='female'\n",
    "    UNION ALL\n",
    "    SELECT\n",
    "        'Sore_throat' AS Symptom, COUNT(case Sore_throat when 1 then 1 else 0 end) AS SymptomCount FROM data WHERE Corona = 'positive' AND Known_contact = 'Abroad' AND Sex='female'\n",
    "    UNION ALL\n",
    "    SELECT\n",
    "        'Shortness_of_breath' AS Symptom, COUNT(case Shortness_of_breath when 1 then 1 else 0 end) AS SymptomCount FROM data WHERE Corona = 'positive' AND Known_contact = 'Abroad' AND Sex='female'\n",
    "    UNION ALL\n",
    "    SELECT\n",
    "        'Headache' AS Symptom, SUM(case Headache when 1 then 1 else 0 end) AS SymptomCount FROM data WHERE Corona = 'positive' AND Known_contact = 'Abroad' AND Sex='female'\n",
    ") order by SymptomCount desc limit 3\n",
    "\"\"\"\n",
    "\n",
    "conn.execute(query).fetchdf()"
   ]
  },
  {
   "cell_type": "code",
   "execution_count": null,
   "metadata": {},
   "outputs": [],
   "source": []
  }
 ],
 "metadata": {
  "kernelspec": {
   "display_name": "Python 3",
   "language": "python",
   "name": "python3"
  },
  "language_info": {
   "codemirror_mode": {
    "name": "ipython",
    "version": 3
   },
   "file_extension": ".py",
   "mimetype": "text/x-python",
   "name": "python",
   "nbconvert_exporter": "python",
   "pygments_lexer": "ipython3",
   "version": "3.11.4"
  }
 },
 "nbformat": 4,
 "nbformat_minor": 2
}
